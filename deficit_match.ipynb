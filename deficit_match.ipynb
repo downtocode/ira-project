{
 "cells": [
  {
   "cell_type": "code",
   "execution_count": null,
   "metadata": {
    "collapsed": true
   },
   "outputs": [],
   "source": [
    "%matplotlib inline\n",
    "import numpy as np\n",
    "import csv"
   ]
  },
  {
   "cell_type": "code",
   "execution_count": 206,
   "metadata": {
    "collapsed": false
   },
   "outputs": [],
   "source": [
    "import csv\n",
    "\n",
    "#importing the csv file\n",
    "with open('deficits.csv') as f:\n",
    "    defmatrix=[list(line) for line in csv.reader(f)]\n",
    "#defmatrix is a matrix (list of lists) of all rows of dataset"
   ]
  },
  {
   "cell_type": "code",
   "execution_count": 207,
   "metadata": {
    "collapsed": false
   },
   "outputs": [],
   "source": [
    "defmatrix2 = []\n",
    "defmatrix2.append(defmatrix[0])\n",
    "for row in defmatrix[1:]:\n",
    "    rowtemp=[]\n",
    "    rowtemp.append(row[0])\n",
    "    for x in row[3:]:\n",
    "        x = float(x)\n",
    "        rowtemp.append(x)\n",
    "    defmatrix2.append(rowtemp)"
   ]
  },
  {
   "cell_type": "code",
   "execution_count": 205,
   "metadata": {
    "collapsed": false
   },
   "outputs": [],
   "source": [
    "#print(defmatrix2)"
   ]
  },
  {
   "cell_type": "code",
   "execution_count": 208,
   "metadata": {
    "collapsed": false
   },
   "outputs": [
    {
     "name": "stdout",
     "output_type": "stream",
     "text": [
      "['509', '700', '107', '504', '600', '118 & 124', '106', '305', '111', '403', '100', '406', '401', '800', '424', '605', '252', '202', '200', '400', '701', '506', '703', '409', '420', '300', '109', '603', '108', '122', '501', '900', '113', '102 & 105', '405', '411', '303', '112', '121', '301', '408', '407', '253 & 254', '502', '503', '602', '306', '901 & 902', '500', '402', '250', '604', '507', '201', '510', '505', '702', '404', '302', '307', '251', '601']\n"
     ]
    }
   ],
   "source": [
    "services = []\n",
    "for row in defmatrix2[1:]:\n",
    "    services.append(row[0])\n",
    "uniques = set(services)\n",
    "uniques2 = list(uniques)\n",
    "print(uniques2)"
   ]
  },
  {
   "cell_type": "code",
   "execution_count": 209,
   "metadata": {
    "collapsed": false
   },
   "outputs": [
    {
     "name": "stdout",
     "output_type": "stream",
     "text": [
      "[43960.0, 130540.0, -20851.0, 196328.0, -91953.0, -52730.0, -46725.0, -45990.0, 0.0, 0.0, 0.0, 0.0]\n"
     ]
    }
   ],
   "source": [
    "uniqdef = {}\n",
    "uniqcounter=[]\n",
    "for item in uniques:\n",
    "    sums=[0.0]*12\n",
    "    counter=0\n",
    "    for row in defmatrix2[1:]:\n",
    "        if row[0] == item:\n",
    "            counter+=1\n",
    "            deficits=[]\n",
    "            temp = 0\n",
    "            for value in range(12):\n",
    "                if temp < 24:\n",
    "                    curr = getdeficit(row[1:], temp, temp+1)\n",
    "                    deficits.append(curr)\n",
    "                    temp+=2\n",
    "            for value in range(12):\n",
    "                sums[value]+=deficits[value]\n",
    "    uniqdef[item] = sums\n",
    "    uniqcounter.append((item,counter))\n",
    "print(uniqdef[\"100\"])"
   ]
  },
  {
   "cell_type": "code",
   "execution_count": 144,
   "metadata": {
    "collapsed": true
   },
   "outputs": [],
   "source": [
    "def getdeficit(row, fund_index, req_index):\n",
    "    \"\"\"Returns the deficit of a pair of funding/requirements.\n",
    "    row: a list of fund/reqs (2010-2021, len(row) = 26)\n",
    "    fund_index: the index of the desired year's funding in the list\n",
    "    req_index: the index of the desired year's requirements in the list\"\"\"\n",
    "    \n",
    "    fund = row[fund_index]\n",
    "    #print(\"This is the funding: \" + str(fund))\n",
    "    req = row[req_index]\n",
    "    #print(\"This is the requirement: \" + str(req))\n",
    "    \n",
    "    #UNDER-FUNDING\n",
    "    if fund < 0.0:\n",
    "        #print(\"UNDER\")\n",
    "        deficit = fund\n",
    "    \n",
    "    elif ((req > fund) and (req > 0.0) and (fund >= 0.0)):\n",
    "        #print(\"UNDER\")\n",
    "        deficit = fund-req\n",
    "    \n",
    "    #MET\n",
    "    elif fund == req:\n",
    "        #print(\"MET\")\n",
    "        deficit = 0.0\n",
    "    \n",
    "    elif (req == 0.0) and (fund > 0.0):\n",
    "        #print(\"MET\")\n",
    "        deficit = 0.0\n",
    "        \n",
    "    #OVER-FUNDING\n",
    "    elif ((fund > req) and (req > 0.0) and (fund >= 0.0)):\n",
    "        #print(\"OVER\")\n",
    "        deficit = fund-req\n",
    "        \n",
    "    return deficit"
   ]
  },
  {
   "cell_type": "code",
   "execution_count": 167,
   "metadata": {
    "collapsed": false
   },
   "outputs": [],
   "source": [
    "rowvalues = ['F10', 'R10', 'F11', 'R11', 'F12', 'R12', 'F13', 'R13', 'F14', 'R14',\n",
    "           'F15', 'R15', 'F16', 'R16', 'F17', 'R17', 'F18', 'R18', 'F19', 'R19', 'F20', 'R20', 'F21', 'R21']\n",
    "rowyears = ['2010', '2011', '2012', '2013', '2014', '2015', '2016', '2017', '2018', '2019', '2020', '2021']"
   ]
  },
  {
   "cell_type": "code",
   "execution_count": 190,
   "metadata": {
    "collapsed": false
   },
   "outputs": [],
   "source": [
    "keys=[]\n",
    "for uni in uniques:\n",
    "    for k in uniqdef.keys():\n",
    "        if k == uni:\n",
    "            keys.append(k)\n",
    "\n",
    "rowtuples = []\n",
    "rowtuples.append(keys)\n",
    "for uni in uniques:\n",
    "    for k in uniqdef.keys():\n",
    "        if k == uni:\n",
    "            loc = list(uniqdef.keys()).index(k)\n",
    "            v = (list(uniqdef.values()))[loc]\n",
    "            rowtuples.append(v)"
   ]
  },
  {
   "cell_type": "code",
   "execution_count": 194,
   "metadata": {
    "collapsed": false
   },
   "outputs": [],
   "source": [
    "with open('mycsvfile.csv', 'w') as f:  # Just use 'w' mode in 3.x\n",
    "    w = csv.writer(f, delimiter=',', quoting=csv.QUOTE_ALL)\n",
    "    for k in uniqdef.keys():\n",
    "        w.writerow(k)\n",
    "    for v in uniqdef.values():\n",
    "        w.writerow(v)"
   ]
  },
  {
   "cell_type": "code",
   "execution_count": null,
   "metadata": {
    "collapsed": false
   },
   "outputs": [],
   "source": []
  },
  {
   "cell_type": "code",
   "execution_count": null,
   "metadata": {
    "collapsed": true
   },
   "outputs": [],
   "source": []
  }
 ],
 "metadata": {
  "kernelspec": {
   "display_name": "Python 3",
   "language": "python",
   "name": "python3"
  },
  "language_info": {
   "codemirror_mode": {
    "name": "ipython",
    "version": 3
   },
   "file_extension": ".py",
   "mimetype": "text/x-python",
   "name": "python",
   "nbconvert_exporter": "python",
   "pygments_lexer": "ipython3",
   "version": "3.5.0"
  }
 },
 "nbformat": 4,
 "nbformat_minor": 0
}
